{
 "cells": [
  {
   "cell_type": "markdown",
   "metadata": {},
   "source": [
    "# 2019年8、9月份，上海静安和杭州西湖均价下跌分析\n",
    "\n",
    "分析之后结论是，区域总成交量较少，而区域内不同小区价格差别较大，高价小区成交变少，低价小区成交较多, 导致均价下跌。静安这边的情况是，链家刚把闸北合并到静安。"
   ]
  },
  {
   "cell_type": "code",
   "execution_count": 2,
   "metadata": {},
   "outputs": [
    {
     "name": "stdout",
     "output_type": "stream",
     "text": [
      "data/chengjiao-上海/2019-08-02-上海.xls\n",
      "data/chengjiao-上海/2019-08-03-上海.xls\n",
      "data/chengjiao-上海/2019-08-07-上海.xls\n",
      "data/chengjiao-上海/2019-08-09-上海.xls\n",
      "data/chengjiao-上海/2019-08-16-上海.xls\n",
      "data/chengjiao-上海/2019-08-22-上海.xls\n",
      "data/chengjiao-上海/2019-08-30-上海.xls\n",
      "data/chengjiao-上海/2019-09-05-上海.xls\n",
      "data/chengjiao-上海/2019-09-06-上海.xls\n",
      "data/chengjiao-上海/2019-09-07-上海.xls\n",
      "data/chengjiao-上海/2019-09-10-上海.xls\n",
      "data/chengjiao-上海/2019-09-12-上海.xls\n",
      "data/chengjiao-上海/2019-09-14-上海.xls\n",
      "data/chengjiao-上海/2019-09-20-上海.xls\n",
      "data/chengjiao-上海/2019-09-27-上海.xls\n",
      "data/chengjiao-上海/2019-10-03-上海.xls\n",
      "data/chengjiao-上海/2019-10-04-上海.xls\n",
      "data/chengjiao-上海/allsh.csv\n",
      "data/chengjiao-上海/chengjiao-2019-07-14-310000.xls\n",
      "data/chengjiao-上海/chengjiao-2019-07-15-310000.xls\n",
      "data/chengjiao-上海/chengjiao-2019-07-15-上海.xls\n",
      "data/chengjiao-上海/chengjiao-2019-07-19-上海.xls\n",
      "data/chengjiao-上海/chengjiao-2019-07-24-上海.xls\n",
      "data/chengjiao-上海/chengjiao-2019-07-26-上海.xls\n",
      "data/chengjiao-上海/chengjiao-2019-07-29-上海.xls\n",
      "data/chengjiao-上海/chengjiao-2019-07-31-上海.xls\n",
      "data/chengjiao-上海/chengjiao-2019-08-01-上海.xls\n"
     ]
    },
    {
     "name": "stderr",
     "output_type": "stream",
     "text": [
      "/Users/alex/Quant/code/LianjiaSpider/common.py:87: FutureWarning: Sorting because non-concatenation axis is not aligned. A future version\n",
      "of pandas will change to not sort by default.\n",
      "\n",
      "To accept the future behavior, pass 'sort=True'.\n",
      "\n",
      "To retain the current behavior and silence the warning, pass sort=False\n",
      "\n",
      "  df = pd.concat(dfs)\n"
     ]
    },
    {
     "name": "stdout",
     "output_type": "stream",
     "text": [
      "124242\n",
      "data/chengjiao-杭州/2019-08-02-杭州.xls\n",
      "data/chengjiao-杭州/2019-08-07-杭州.xls\n",
      "data/chengjiao-杭州/2019-08-09-杭州.xls\n",
      "data/chengjiao-杭州/2019-08-16-杭州.xls\n",
      "data/chengjiao-杭州/2019-08-22-杭州.xls\n",
      "data/chengjiao-杭州/2019-08-24-杭州.xls\n",
      "data/chengjiao-杭州/2019-08-30-杭州.xls\n",
      "data/chengjiao-杭州/2019-09-05-杭州.xls\n",
      "data/chengjiao-杭州/2019-09-07-杭州.xls\n",
      "data/chengjiao-杭州/2019-09-09-杭州.xls\n",
      "data/chengjiao-杭州/2019-09-12-杭州.xls\n",
      "data/chengjiao-杭州/2019-09-14-杭州.xls\n",
      "data/chengjiao-杭州/2019-09-20-杭州.xls\n",
      "data/chengjiao-杭州/2019-09-27-杭州.xls\n",
      "data/chengjiao-杭州/2019-10-04-杭州.xls\n",
      "data/chengjiao-杭州/allhz.csv\n",
      "28191\n"
     ]
    }
   ],
   "source": [
    "from common import read\n",
    "df_sh = read('上海')\n",
    "df_hz = read('杭州')"
   ]
  },
  {
   "cell_type": "code",
   "execution_count": 3,
   "metadata": {},
   "outputs": [
    {
     "data": {
      "text/plain": [
       "4870"
      ]
     },
     "execution_count": 3,
     "metadata": {},
     "output_type": "execute_result"
    }
   ],
   "source": [
    "df = df_hz\n",
    "df1 = df[df['下辖区']=='西湖']\n",
    "len(df1)"
   ]
  },
  {
   "cell_type": "code",
   "execution_count": 4,
   "metadata": {
    "scrolled": true
   },
   "outputs": [
    {
     "name": "stdout",
     "output_type": "stream",
     "text": [
      "33472.67104722792 31408.5\n"
     ]
    },
    {
     "data": {
      "text/plain": [
       "<matplotlib.axes._subplots.AxesSubplot at 0x10c15dbe0>"
      ]
     },
     "execution_count": 4,
     "metadata": {},
     "output_type": "execute_result"
    },
    {
     "data": {
      "image/png": "[encoded data removed]",
      "text/plain": [
       "<Figure size 432x288 with 1 Axes>"
      ]
     },
     "metadata": {},
     "output_type": "display_data"
    }
   ],
   "source": [
    "import pandas as pd\n",
    "pd.options.display.max_columns = None\n",
    "df2 = df1.loc[df1['成交时间']>'2019-06-01'].sort_values('成交价(元/平)')\n",
    "df2 = df2.loc[df2['成交时间']<'2019-08-01'].sort_values('成交价(元/平)')\n",
    "print(df1['成交价(元/平)'].mean(), df1['成交价(元/平)'].median())\n",
    "df2['成交价(元/平)'].hist(bins = 25)\n"
   ]
  },
  {
   "cell_type": "code",
   "execution_count": 5,
   "metadata": {},
   "outputs": [
    {
     "data": {
      "text/plain": [
       "<matplotlib.axes._subplots.AxesSubplot at 0x10bca6f98>"
      ]
     },
     "execution_count": 5,
     "metadata": {},
     "output_type": "execute_result"
    },
    {
     "data": {
      "image/png": "[encoded data removed]",
      "text/plain": [
       "<Figure size 432x288 with 1 Axes>"
      ]
     },
     "metadata": {},
     "output_type": "display_data"
    }
   ],
   "source": [
    "df3 = df1.loc[df1['成交时间']>'2019-08-01'].sort_values('成交价(元/平)')\n",
    "df3['成交价(元/平)'].hist(bins = 25)"
   ]
  },
  {
   "cell_type": "code",
   "execution_count": 8,
   "metadata": {},
   "outputs": [
    {
     "name": "stdout",
     "output_type": "stream",
     "text": [
      "4870 39\n",
      "434\n",
      "2013-02-19 00:00:00 2019-09-18 00:00:00\n"
     ]
    },
    {
     "name": "stderr",
     "output_type": "stream",
     "text": [
      "/anaconda3/lib/python3.6/site-packages/matplotlib/font_manager.py:1328: UserWarning: findfont: Font family ['sans-serif'] not found. Falling back to DejaVu Sans\n",
      "  (prop.get_family(), self.defaultFamily[fontext]))\n"
     ]
    },
    {
     "name": "stdout",
     "output_type": "stream",
     "text": [
      "2013-02-19 00:00:00 2019-09-18 00:00:00\n",
      "['泊林漫谷', '人和家园', '中海定山府', '乾成园', '金厦公寓', '三墩景溪北苑', '新星小区', '都市阳光嘉苑', '新世纪花苑', '奥克斯缔逸城', '浪漫和山', '都市水乡水秀苑', '融创瑷骊山', '龙湖水晶郦城', '信鸿花园南区', '都市阳光乐苑', '墩莳家园', '都市阳光和苑', '信鸿花园北区', '桃源春居', '西溪花园流芳苑', '东方苑']\n"
     ]
    }
   ],
   "source": [
    "from common import plot\n",
    "df4 = df3.loc[df3['成交价(元/平)']<30000]\n",
    "xiaoquList = list(df4['小区'].unique())\n",
    "print(len(df1), len(df4))\n",
    "df5 = df1.loc[df1['小区'].isin(xiaoquList)]\n",
    "print(len(df5))\n",
    "area = '西湖low'\n",
    "gp = df5.groupby(['成交时间'])['成交价(元/平)']\n",
    "res=pd.DataFrame({\"volume\":gp.size(),\"median_price\":gp.median(), \"mean_price\":gp.mean()})\n",
    "res = res.iloc[:len(res),:]\n",
    "city = 'default'\n",
    "MA = True\n",
    "start_date = None\n",
    "force = True\n",
    "keep_all = True\n",
    "for ma_length in [1,30]:\n",
    "    title = '%s-%d日均线'%(area, ma_length)\n",
    "    plot(res, city, title, MA, ma_length, start_date, force, keep_all)\n",
    "print(xiaoquList)\n",
    "#画图后发现这些小区在2019年8月之前没有成交。再看具体数据发现是8月之前这些小区属于闸北。"
   ]
  },
  {
   "cell_type": "code",
   "execution_count": null,
   "metadata": {
    "scrolled": false
   },
   "outputs": [],
   "source": [
    "from common import plot_df\n",
    "xiaoqu=df.loc[df['小区']=='星纪花苑']\n",
    "xiaoqu=df.loc[df['小区']=='奥克斯缔逸城']\n",
    "xiaoqu=df.loc[df['小区']=='康平小区']\n",
    "xiaoqu=df.loc[df['小区']=='银都一村']\n",
    "\n",
    "xiaoqu.index = xiaoqu['链家编号']\n",
    "xiaoqu = xiaoqu.sort_values('成交时间', ascending = False)\n",
    "xiaoqu.loc[:,['小区','成交时间','成交价(元/平)','售价(万)','户型','建筑面积','建成时间']]"
   ]
  },
  {
   "cell_type": "code",
   "execution_count": null,
   "metadata": {},
   "outputs": [],
   "source": [
    "xiaoqu.iloc[0]['网址']"
   ]
  },
  {
   "cell_type": "code",
   "execution_count": null,
   "metadata": {},
   "outputs": [],
   "source": [
    "xiaoqu['土地年限']"
   ]
  },
  {
   "cell_type": "code",
   "execution_count": null,
   "metadata": {},
   "outputs": [],
   "source": []
  },
  {
   "cell_type": "code",
   "execution_count": null,
   "metadata": {},
   "outputs": [],
   "source": []
  }
 ],
 "metadata": {
  "kernelspec": {
   "display_name": "Python 3",
   "language": "python",
   "name": "python3"
  },
  "language_info": {
   "codemirror_mode": {
    "name": "ipython",
    "version": 3
   },
   "file_extension": ".py",
   "mimetype": "text/x-python",
   "name": "python",
   "nbconvert_exporter": "python",
   "pygments_lexer": "ipython3",
   "version": "3.6.5"
  }
 },
 "nbformat": 4,
 "nbformat_minor": 2
}

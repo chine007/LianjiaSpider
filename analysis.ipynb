{
 "cells": [
  {
   "cell_type": "markdown",
   "metadata": {},
   "source": [
    "# 加载函数"
   ]
  },
  {
   "cell_type": "code",
   "execution_count": null,
   "metadata": {},
   "outputs": [],
   "source": [
    "from common import read\n",
    "from common import plot_df, plot_district, plot\n",
    "import pandas as pd\n",
    "def plotCity(df):\n",
    "    gp = df.groupby(['成交时间'])['成交价(元/平)']\n",
    "    res=pd.DataFrame({\"volume\":gp.size(),\"median_price\":gp.median(), \"mean_price\":gp.mean()})\n",
    "    res = res.iloc[:len(res),:]\n",
    "    title = city\n",
    "    res = plot(res, city, title, MA, ma_length, start_date)\n",
    "    return res\n",
    "def plotAllDistrict(df):\n",
    "    districts = list(df['下辖区'].unique())\n",
    "    res = {}\n",
    "    for district in districts:\n",
    "        if str(district) != 'nan':\n",
    "            res[district] = plot_district(df, city, district, ma_length, start_date)\n",
    "    return res"
   ]
  },
  {
   "cell_type": "markdown",
   "metadata": {},
   "source": [
    "# 画各个城市的趋势图"
   ]
  },
  {
   "cell_type": "code",
   "execution_count": null,
   "metadata": {
    "scrolled": true
   },
   "outputs": [],
   "source": [
    "import os\n",
    "MA = True\n",
    "ma_length = 30\n",
    "start_date = '2015-01-01'\n",
    "\n",
    "cityList = ['北京', '上海', '深圳', '杭州', '广州', '长沙', '厦门', '宁波', '合肥', '成都','重庆','武汉',\n",
    "            '西安','石家庄','苏州','南京', '大连', '青岛', '无锡', '保定', '温州', '廊坊', '天津']\n",
    "#cityList = ['北京', '上海','深圳']\n",
    "cityList = ['天津']\n",
    "data = {}\n",
    "res = {}\n",
    "districtRes = {}\n",
    "for city in cityList:\n",
    "    print(city)\n",
    "    df = read(city)\n",
    "    data[city] = df\n",
    "    res[city] = plotCity(df)\n",
    "    districtRes[city]=plotAllDistrict(df)"
   ]
  },
  {
   "cell_type": "code",
   "execution_count": null,
   "metadata": {},
   "outputs": [],
   "source": [
    "df['下辖区'].unique()"
   ]
  },
  {
   "cell_type": "code",
   "execution_count": null,
   "metadata": {},
   "outputs": [],
   "source": [
    "def drawDown(res):\n",
    "    dd = {}\n",
    "    for district in res:\n",
    "        try:\n",
    "            dd[district] = (res[district]['mean_price'][-1]/res[district]['mean_price'].max()-1)\n",
    "        except:\n",
    "            pass\n",
    "    dd = pd.DataFrame({'跌幅':dd}).sort_values('跌幅')\n",
    "    dd['跌幅'] = [\"%.2f%%\"%(a*100) for a in dd['跌幅']]\n",
    "    display(dd)\n",
    "#display(districtRes['北京']['海淀'])\n",
    "drawDown(districtRes['北京'])"
   ]
  },
  {
   "cell_type": "code",
   "execution_count": null,
   "metadata": {},
   "outputs": [],
   "source": [
    "#计算城市排名\n",
    "if not os.path.exists('fig/allcity'):\n",
    "    os.makedirs('fig/allcity')\n",
    "os.system('rm fig/allcity/*')\n",
    "median = {}\n",
    "mean = {}\n",
    "yearChange = {}\n",
    "change = {}\n",
    "monthChange = {}\n",
    "for city in cityList:\n",
    "    median[city] = int(res[city]['median_price'][-1])\n",
    "    mean[city] = int(res[city]['mean_price'][-1])\n",
    "    try:\n",
    "        yearChange[city] = \"%.2f%%\"%(100 * (res[city]['median_price'][-1]/res[city]['median_price'][-365] - 1))\n",
    "    except:\n",
    "        yearChange[city] = '数据不足'\n",
    "    change[city] = \"%.2f%%\"%(100 * (res[city]['median_price'][-1]/res[city]['median_price'][-180] - 1))\n",
    "    monthChange[city] = \"%.2f%%\"%(100 * (res[city]['median_price'][-1]/res[city]['median_price'][-30] - 1))\n",
    "\n",
    "cityRank = pd.DataFrame({'中位数':median, '均值':mean, \n",
    "                         '近一年':yearChange,\n",
    "                         '近半年':change, '近一个月':monthChange}).sort_values('中位数', ascending = False)\n",
    "cityRank['城市'] = cityRank.index\n",
    "cityRank.index = range(1, len(cityRank) + 1)\n",
    "cityRank = cityRank.loc[:,['城市', '中位数', '均值', '近一年', '近半年','近一个月']]\n",
    "display(cityRank)\n",
    "for index, row in cityRank.iterrows():\n",
    "    city = row['城市']\n",
    "    index = int(index)\n",
    "    cmd = 'cp fig/%s/%s.png fig/allcity/%.2d.%s.png'%(city, city, index, city)\n",
    "    os.system(cmd)"
   ]
  },
  {
   "cell_type": "markdown",
   "metadata": {},
   "source": [
    "# 合并历史数据"
   ]
  },
  {
   "cell_type": "code",
   "execution_count": null,
   "metadata": {},
   "outputs": [],
   "source": [
    "from common import read\n",
    "cityList = ['北京', '上海', '深圳', '杭州', '广州', '长沙', '厦门', '宁波', '合肥', '成都','重庆','武汉',\n",
    "            '西安','石家庄','苏州','南京', '大连', '温州']\n",
    "for city in cityList:\n",
    "    df = read(city)\n",
    "    df.to_csv('data/all/%s.csv'%city, index=False)"
   ]
  },
  {
   "cell_type": "code",
   "execution_count": null,
   "metadata": {},
   "outputs": [],
   "source": [
    "if not os.path.exists('data/res'):\n",
    "    os.makedirs('data/res')\n",
    "for city in cityList:\n",
    "    res[city].to_csv('data/res/'+city+'.csv')"
   ]
  },
  {
   "cell_type": "code",
   "execution_count": null,
   "metadata": {},
   "outputs": [],
   "source": [
    "from common import read\n",
    "city = 'alltj'\n",
    "df = read(city)\n",
    "xiaoqu= open('xiaoqu/tjxiaoqu.txt', 'w')\n",
    "xiaoquList = df['小区'].unique()\n",
    "print(len(xiaoquList))\n",
    "for xq in xiaoquList:\n",
    "    if str(xq) != 'nan':\n",
    "        xiaoqu.write(xq+'\\n')\n",
    "    \n",
    "xiaoqu.close()"
   ]
  },
  {
   "cell_type": "code",
   "execution_count": 3,
   "metadata": {},
   "outputs": [
    {
     "name": "stdout",
     "output_type": "stream",
     "text": [
      "raw count: 125880\n",
      "count after drop duplicates 105280\n",
      "count after drop less than 1000 105277\n",
      "count after drop 40, 50 104100\n",
      "Index(['状态', '成交价(元/平)', '建筑面积', '挂牌时间', '上次交易时间', '建成时间', '城市', '下辖区', '商圈',\n",
      "       '小区', '所属环线', '户型', '朝向', '梯户比例', '房屋用途', '土地年限', '建筑类型', '交易权属', '装修',\n",
      "       '建筑结构', '供暖方式', '产权所属', '户型结构', '电梯', '所在楼层', '房屋年限', '标题', '网址',\n",
      "       '关注（人）', '带看（次）', '挂牌价格(万)', '成交周期(天)', '调价(次)', '浏览（次）', '套内面积',\n",
      "       '成交时间', '售价(万)'],\n",
      "      dtype='object')\n",
      "104100\n"
     ]
    }
   ],
   "source": [
    "from common import read\n",
    "city = 'alltj'\n",
    "df = read(city)\n",
    "#df.drop_duplicates(subset=['链家编号'])\n",
    "print(df.columns)\n",
    "print(len(df))\n",
    "df.to_csv(city+'.csv')"
   ]
  },
  {
   "cell_type": "code",
   "execution_count": null,
   "metadata": {},
   "outputs": [],
   "source": [
    "df['土地年限']"
   ]
  },
  {
   "cell_type": "code",
   "execution_count": null,
   "metadata": {},
   "outputs": [],
   "source": [
    "from common import plot_dfs\n",
    "import pandas as pd\n",
    "def plotDianti(df):\n",
    "    pd.options.display.max_columns = None\n",
    "    df_dt= df.loc[df['电梯'] == '有']\n",
    "    df_ndt= df.loc[df['电梯'] != '有']\n",
    "    print('有电梯', len(df_dt))\n",
    "    print('无电梯',len(df_ndt))\n",
    "    plot_dfs([df_ndt,df_dt], '%s有无电梯'%city, ['无电梯', '电梯'], 30, '2015-01-01')\n",
    "for city in cityList:\n",
    "    df = read(city)\n",
    "    plotDianti(df)"
   ]
  },
  {
   "cell_type": "code",
   "execution_count": null,
   "metadata": {
    "scrolled": true
   },
   "outputs": [],
   "source": [
    "from common import plot_df\n",
    "df_sjs = df.loc[df['下辖区']=='石景山']\n",
    "xiaoquList = df_sjs['小区'].unique()\n",
    "for xiaoqu in xiaoquList:\n",
    "    plot_df(df_sjs.loc[df_sjs[\"小区\"]== xiaoqu], \"石景山\", xiaoqu, True, 10)"
   ]
  },
  {
   "cell_type": "code",
   "execution_count": null,
   "metadata": {},
   "outputs": [],
   "source": [
    "import pandas as pd\n",
    "x=df_sjs.groupby('小区')\n",
    "\n",
    "x_mean  = x.mean()\n",
    "x_size = x.size()\n",
    "x_mean = x_mean.merge(pd.DataFrame({'size':x_size}), left_index = True, right_index = True)\n",
    "x_mean=x_mean.loc[x_size>=5]\n",
    "x_mean=x_mean.sort_values(by='成交价(元/平)', ascending=False).loc[:,[\"建筑面积\",\"成交价(元/平)\",\"售价(万)\", 'size']]\n",
    "x_mean"
   ]
  },
  {
   "cell_type": "code",
   "execution_count": null,
   "metadata": {
    "scrolled": true
   },
   "outputs": [],
   "source": [
    "from common import plot, plot_dfs, plot_df\n",
    "MA = True\n",
    "ma_length = 10\n",
    "def plot_xiaoqu(xiaoqu, df):\n",
    "    df_xiaoqu = df.dropna(subset=['小区'])\n",
    "    df_xiaoqu = df_xiaoqu.loc[df_xiaoqu['小区'].str.contains(xiaoqu)]\n",
    "    #plot_dfs([df, df_xiaoqu], xiaoqu, ['全市', xiaoqu], ma_length, '2015-01-01')\n",
    "    plot_df(df_xiaoqu, city, xiaoqu, MA, ma_length)\n",
    "    \n",
    "ma_length = 30\n",
    "#plot_xiaoqu('八角', data['北京'])\n",
    "plot_xiaoqu('观林园', df)"
   ]
  },
  {
   "cell_type": "code",
   "execution_count": null,
   "metadata": {
    "scrolled": true
   },
   "outputs": [],
   "source": [
    "pd.options.display.max_columns = None\n",
    "#df.loc[df['小区'].str.contains('团结湖南里')]\n",
    "df.loc[df['小区'].str.contains('爱乐')].sort_values(by='成交时间', ascending=False)\n",
    "#df.loc[df['小区'].str.contains('平乐园')].sort_values(by='成交时间', ascending=False)"
   ]
  },
  {
   "cell_type": "code",
   "execution_count": null,
   "metadata": {},
   "outputs": [],
   "source": [
    "x=df.groupby('小区')\n",
    "x_mean  = x.mean()\n",
    "x_size = x.size()\n",
    "#x_size\n",
    "x_mean=x_mean.loc[x_size>=1]\n",
    "x_mean=x_mean.sort_values(by='成交价(元/平)', ascending=False).loc[:,[\"建筑面积\",\"成交价(元/平)\",\"售价(万)\"]]\n",
    "x_mean"
   ]
  },
  {
   "cell_type": "code",
   "execution_count": null,
   "metadata": {},
   "outputs": [],
   "source": [
    "x_mean.index[:10]"
   ]
  },
  {
   "cell_type": "code",
   "execution_count": null,
   "metadata": {},
   "outputs": [],
   "source": [
    "df.sort_values('售价(万)', ascending=False).loc[:,[\"小区\", \"建筑面积\",\"成交价(元/平)\", \"售价(万)\"]]"
   ]
  },
  {
   "cell_type": "code",
   "execution_count": null,
   "metadata": {},
   "outputs": [],
   "source": [
    "df.sort_values('成交价(元/平)', ascending=False).loc[:,[\"小区\", \"建筑面积\",\"成交价(元/平)\", \"售价(万)\",\"成交时间\"]]"
   ]
  },
  {
   "cell_type": "code",
   "execution_count": null,
   "metadata": {},
   "outputs": [],
   "source": [
    "ma_length = 10\n",
    "mean_price = df['成交价(元/平)'].mean()\n",
    "price_std = df['成交价(元/平)'].std()\n",
    "print('mean:', mean_price, 'std:', price_std)\n",
    "threshold = 1.3\n",
    "#high_df = df.loc[df['成交价(元/平)']>= mean_price + threshold * price_std]\n",
    "#low_df =  df.loc[df['成交价(元/平)']< mean_price - threshold* price_std]\n",
    "#medium_df = df.loc[df['成交价(元/平)']< mean_price + threshold * price_std]\n",
    "#medium_df = medium_df.loc[medium_df['成交价(元/平)']>= mean_price - threshold * price_std]\n",
    "sort_key = '成交价(元/平)'#\n",
    "#sort_key = '售价(万)'\n",
    "df = df.sort_values(sort_key, ascending = False)\n",
    "count = len(df)//3\n",
    "high_df = df.iloc[:count]\n",
    "low_df = df.iloc[-count:]\n",
    "medium_df = df.iloc[count:-count]\n",
    "print(len(high_df), len(low_df), len(medium_df))\n",
    "print(high_df[sort_key].mean(), medium_df[sort_key].mean(), low_df[sort_key].mean() )\n",
    "ma_length = 30\n",
    "def getPriceSeries(df):\n",
    "    gp = df.groupby(['成交时间'])['成交价(元/平)']\n",
    "    res=pd.DataFrame({\"volume\":gp.size(),\"median_price\":gp.median(), \"mean_price\":gp.mean()})\n",
    "    res = res.sort_index()\n",
    "    res = res.iloc[:len(res)-1]\n",
    "    res = get_moving_average(res, ma_length)\n",
    "    return res\n",
    "highSeries=getPriceSeries(high_df)\n",
    "mediumSeries=getPriceSeries(medium_df)\n",
    "lowSeries=getPriceSeries(low_df)\n"
   ]
  },
  {
   "cell_type": "code",
   "execution_count": null,
   "metadata": {},
   "outputs": [],
   "source": [
    "fig, ax = plt.subplots()\n",
    "ax.plot(highSeries['mean_price']/highSeries['mean_price'][0])\n",
    "ax.plot(mediumSeries['mean_price']/mediumSeries['mean_price'][0])\n",
    "ax.plot(lowSeries['mean_price']/lowSeries['mean_price'][0])\n",
    "plt.xticks(rotation=45)\n",
    "ax.legend(['high=%.f yuan'%(high_df[sort_key].mean()),\n",
    "           'medium=%.f yuan'%medium_df[sort_key].mean(),\n",
    "           'low=%.f yuan'%low_df[sort_key].mean()])\n",
    "xticks = ax.xaxis.get_major_ticks()\n",
    "interval = len(xticks)// 10\n",
    "ax.set_xticks(ax.get_xticks()[::interval])\n",
    "'done'"
   ]
  },
  {
   "cell_type": "code",
   "execution_count": null,
   "metadata": {},
   "outputs": [],
   "source": [
    "plt.axis"
   ]
  },
  {
   "cell_type": "code",
   "execution_count": null,
   "metadata": {},
   "outputs": [],
   "source": [
    "plt.plot(highSeries['median_price']/highSeries['median_price'][0])\n",
    "plt.plot(mediumSeries['median_price']/mediumSeries['median_price'][0])\n",
    "plt.plot(lowSeries['median_price']/lowSeries['median_price'][0])\n",
    "plt.xticks(rotation=90)\n",
    "plt.legend(['high','medium', 'low'])\n"
   ]
  },
  {
   "cell_type": "code",
   "execution_count": null,
   "metadata": {},
   "outputs": [],
   "source": [
    "def plotAllDistrict(df, ma_length = 10):\n",
    "    districts = list(set(df['下辖区']))\n",
    "    legend = ['beijing']\n",
    "    data = []\n",
    "    gp = df.groupby(['成交时间'])['成交价(元/平)']\n",
    "    res=pd.DataFrame({\"volume\":gp.size(),\"median_price\":gp.median(), \"mean_price\":gp.mean()})\n",
    "    res = res.iloc[:len(res)-1,:]\n",
    "    res = get_moving_average(res, ma_length)\n",
    "\n",
    "    data.append(res)\n",
    "    for district in districts:\n",
    "        gp = df.loc[df['下辖区']==district].groupby(['成交时间'])\n",
    "        res = pd.DataFrame({'volume':gp.size(),'mean_price':gp['成交价(元/平)'].mean(), 'median_price':gp['成交价(元/平)'].median()})\n",
    "        res = res.iloc[:len(res) -1,:]\n",
    "        res = get_moving_average(res, ma_length)\n",
    "        if len(res) < 1:\n",
    "            continue\n",
    "        data.append(res)\n",
    "        title = pinyin(district)\n",
    "        if district == '朝阳':\n",
    "            title = 'chao yang'\n",
    "        elif district == '长宁':\n",
    "            title = 'chang ning'\n",
    "        elif district == '闵行':\n",
    "            title = 'min hang'\n",
    "        else:\n",
    "            title = \" \".join([x[0] for x in title])\n",
    "        legend.append(title)\n",
    "   \n",
    "    for i in range(len(data)):\n",
    "        plt.plot(data[i]['mean_price']/data[i]['mean_price'].iloc[0])\n",
    "    plt.xticks(rotation=90)\n",
    "    plt.legend(legend)\n",
    "plotAllDistrict(df, 30)\n",
    "    "
   ]
  },
  {
   "cell_type": "code",
   "execution_count": null,
   "metadata": {},
   "outputs": [],
   "source": [
    "city = 'alltj'\n",
    "MA = True\n",
    "ma_length = 30\n",
    "start_date = '2015-01-01'\n",
    "df = read(city)\n",
    "res = plotCity(df)\n",
    "plotAllDistrict(df)"
   ]
  },
  {
   "cell_type": "code",
   "execution_count": 9,
   "metadata": {},
   "outputs": [
    {
     "name": "stdout",
     "output_type": "stream",
     "text": [
      "raw count: 104100\n",
      "count after drop duplicates 104100\n",
      "count after drop less than 1000 104100\n",
      "count after drop 40, 50 104100\n"
     ]
    },
    {
     "data": {
      "text/plain": [
       "下辖区\n",
       "宁河           22\n",
       "静海           38\n",
       "海河教育园区      143\n",
       "开发区         192\n",
       "蓟州          341\n",
       "宝坻          583\n",
       "塘沽         2507\n",
       "津南         2587\n",
       "武清         2811\n",
       "滨海新区       2867\n",
       "和平         4312\n",
       "北辰         4634\n",
       "东丽         5512\n",
       "红桥         5937\n",
       "河北         6700\n",
       "西青        10668\n",
       "河东        12797\n",
       "河西        16081\n",
       "南开        25265\n",
       "dtype: int64"
      ]
     },
     "execution_count": 9,
     "metadata": {},
     "output_type": "execute_result"
    }
   ],
   "source": [
    "from common import read\n",
    "city = '天津'\n",
    "df = read(city)\n",
    "df.groupby('下辖区').size().sort_values()"
   ]
  },
  {
   "cell_type": "code",
   "execution_count": 8,
   "metadata": {},
   "outputs": [
    {
     "data": {
      "text/plain": [
       "0"
      ]
     },
     "execution_count": 8,
     "metadata": {},
     "output_type": "execute_result"
    }
   ],
   "source": [
    "sum(df['下辖区']=='天津')"
   ]
  },
  {
   "cell_type": "code",
   "execution_count": 11,
   "metadata": {},
   "outputs": [
    {
     "data": {
      "text/plain": [
       "['和平', '北辰', '东丽', '红桥', '河北', '西青', '河东', '河西', '南开']"
      ]
     },
     "execution_count": 11,
     "metadata": {},
     "output_type": "execute_result"
    }
   ],
   "source": [
    "[ a.split()[0] for a in '''和平         4312\n",
    "北辰         4634\n",
    "东丽         5512\n",
    "红桥         5937\n",
    "河北         6700\n",
    "西青        10668\n",
    "河东        12797\n",
    "河西        16081\n",
    "南开        25265'''.split('\\n')]"
   ]
  },
  {
   "cell_type": "code",
   "execution_count": null,
   "metadata": {},
   "outputs": [],
   "source": []
  }
 ],
 "metadata": {
  "kernelspec": {
   "display_name": "Python 3",
   "language": "python",
   "name": "python3"
  },
  "language_info": {
   "codemirror_mode": {
    "name": "ipython",
    "version": 3
   },
   "file_extension": ".py",
   "mimetype": "text/x-python",
   "name": "python",
   "nbconvert_exporter": "python",
   "pygments_lexer": "ipython3",
   "version": "3.6.8"
  }
 },
 "nbformat": 4,
 "nbformat_minor": 2
}
